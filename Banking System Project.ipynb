{
 "cells": [
  {
   "cell_type": "code",
   "execution_count": 1,
   "id": "b104287f-4df3-4cb9-8b3e-ca01d3db6092",
   "metadata": {},
   "outputs": [
    {
     "name": "stdout",
     "output_type": "stream",
     "text": [
      "\n",
      "1. Create a new account\n",
      "2. New Account\n",
      "3. Your  all accounts\n",
      "4. Exit\n"
     ]
    },
    {
     "name": "stdin",
     "output_type": "stream",
     "text": [
      "Enter your choice (1/2/3/4):  1\n",
      "Please Enter Full Your Name:  Midhun Manoj\n",
      "Please Enter Your Age:  18\n",
      "Set A Password '(Use Only Four Number)' :  ········\n",
      "Enter Remaining Balance:  2000\n"
     ]
    },
    {
     "name": "stdout",
     "output_type": "stream",
     "text": [
      "Login successfully! Your New Account Number Is: 896913384219\n",
      "\n",
      "1. Create a new account\n",
      "2. New Account\n",
      "3. Your  all accounts\n",
      "4. Exit\n"
     ]
    },
    {
     "name": "stdin",
     "output_type": "stream",
     "text": [
      "Enter your choice (1/2/3/4):  2\n",
      "Enter Your New Account Number:  896913384219\n",
      "Enter Your Password:  ········\n"
     ]
    },
    {
     "name": "stdout",
     "output_type": "stream",
     "text": [
      "\n",
      "1. Deposit.\n",
      "2. Withdraw.\n",
      "3. Delete account For Permanant.\n",
      "4. Exit\n"
     ]
    },
    {
     "name": "stdin",
     "output_type": "stream",
     "text": [
      "Enter Your Choice (1/2/3/4):  1\n",
      "Enter The Deposit Amount:  2000\n"
     ]
    },
    {
     "name": "stdout",
     "output_type": "stream",
     "text": [
      "Deposited 2000.0. Remaining Balance: 4000.0\n",
      "\n",
      "1. Deposit.\n",
      "2. Withdraw.\n",
      "3. Delete account For Permanant.\n",
      "4. Exit\n"
     ]
    },
    {
     "name": "stdin",
     "output_type": "stream",
     "text": [
      "Enter Your Choice (1/2/3/4):  2\n",
      "Enter The Withdrawal Amount:  1000\n"
     ]
    },
    {
     "name": "stdout",
     "output_type": "stream",
     "text": [
      "Withdrew 1000.0. Remaining Balance: 3000.0\n",
      "\n",
      "1. Deposit.\n",
      "2. Withdraw.\n",
      "3. Delete account For Permanant.\n",
      "4. Exit\n"
     ]
    },
    {
     "name": "stdin",
     "output_type": "stream",
     "text": [
      "Enter Your Choice (1/2/3/4):  3\n"
     ]
    },
    {
     "name": "stdout",
     "output_type": "stream",
     "text": [
      " Deleted Successfully!..\n",
      "\n",
      "1. Create a new account\n",
      "2. New Account\n",
      "3. Your  all accounts\n",
      "4. Exit\n"
     ]
    },
    {
     "name": "stdin",
     "output_type": "stream",
     "text": [
      "Enter your choice (1/2/3/4):  4\n"
     ]
    },
    {
     "name": "stdout",
     "output_type": "stream",
     "text": [
      "Exiting program.\n"
     ]
    }
   ],
   "source": [
    "import random\n",
    "import getpass  \n",
    "\n",
    "class Bank_account:\n",
    "    def __init__(self, account_number, name, age, password, balance=0):\n",
    "        self.account_number = account_number\n",
    "        self.name = name\n",
    "        self.age = age\n",
    "        self.password = password\n",
    "        self.balance = balance\n",
    "\n",
    "    def deposit(self, amount):\n",
    "        if amount > 0:\n",
    "            self.balance += amount\n",
    "            print(f'Deposited {amount}. Remaining Balance: {self.balance}')\n",
    "        else:\n",
    "            print(\"Invalid Deposit Amount.\")\n",
    "\n",
    "    def withdraw(self, amount):\n",
    "        if 0 < amount <= self.balance:\n",
    "            self.balance -= amount\n",
    "            print(f\"Withdrew {amount}. Remaining Balance: {self.balance}\")\n",
    "        else:\n",
    "            print(\" Insufficient Funds.\")\n",
    "\n",
    "    def get_balance(self):\n",
    "        return self.balance\n",
    "\n",
    "    def account_details_tuple(self):\n",
    "        return (self.account_number, self.name, self.age, self.password, self.balance)\n",
    "\n",
    "\n",
    "def create_account(accounts):\n",
    "    # Generate a random 12-digit account number\n",
    "    account_number = random.randint(10**11, 10**12 - 1) #for getting account number\n",
    "\n",
    "    name = input(\"Please Enter Full Your Name: \")\n",
    "    age = int(input(\"Please Enter Your Age: \"))\n",
    "    password = getpass.getpass(\"Set A Password '(Use Only Four Number)' : \")  \n",
    "    initial_balance = float(input(\"Enter Remaining Balance: \"))\n",
    "\n",
    "    new_account = Bank_account(account_number, name, age, password, initial_balance)\n",
    "    accounts.append(new_account)\n",
    "\n",
    "    print(f\"Login successfully! Your New Account Number Is: {account_number}\")\n",
    "\n",
    "\n",
    "def enter_new_account(accounts):\n",
    "    account_number = int(input(\"Enter Your New Account Number: \"))\n",
    "    password = getpass.getpass(\"Enter Your Password: \") \n",
    "\n",
    "    for account in accounts:\n",
    "        if account.account_number == account_number and account.password == password:\n",
    "            return account\n",
    "\n",
    "    print(\"Invalid !...Try Again...\")\n",
    "    return None\n",
    "\n",
    "\n",
    "def your_accounts(accounts):\n",
    "    print(\"\\nAll Accounts:\")\n",
    "    for account in accounts:\n",
    "        print(f\"Account Number: {account.account_number}, Name: {account.name}, Age: {account.age}, Balance: {account.get_balance()}\")\n",
    "\n",
    "\n",
    "accounts = []\n",
    "\n",
    "while True:\n",
    "    print(\"\\n1. Create a new account\")\n",
    "    print(\"2. New Account\")\n",
    "    print(\"3. Your  all accounts\")\n",
    "    print(\"4. Exit\")\n",
    "\n",
    "    choice = input(\"Enter your choice (1/2/3/4): \")\n",
    "\n",
    "    if choice == '1':\n",
    "        create_account(accounts)\n",
    "\n",
    "    elif choice == '2':\n",
    "        existing_account = enter_new_account(accounts)\n",
    "\n",
    "        if existing_account:\n",
    "            while True:\n",
    "                print(\"\\n1. Deposit.\")\n",
    "                print(\"2. Withdraw.\")\n",
    "                print(\"3. Delete account For Permanant.\")\n",
    "                print(\"4. Exit\")\n",
    "\n",
    "                choice = input(\"Enter Your Choice (1/2/3/4): \")\n",
    "\n",
    "                if choice  == '1':\n",
    "                    amount = float(input(\"Enter The Deposit Amount: \"))\n",
    "                    existing_account.deposit(amount)\n",
    "\n",
    "                elif choice == '2':\n",
    "                    amount = float(input(\"Enter The Withdrawal Amount: \"))\n",
    "                    existing_account.withdraw(amount)\n",
    "\n",
    "                elif choice == '3':\n",
    "                    accounts.remove(existing_account)\n",
    "                    print(\" Deleted Successfully!..\")\n",
    "                    break\n",
    "\n",
    "                elif choice == '4':\n",
    "                    break\n",
    "\n",
    "                else:\n",
    "                    print(\"Invalid ...Try again.\")\n",
    "\n",
    "    elif choice == '3':\n",
    "        your_accounts(accounts)\n",
    "\n",
    "    elif choice == '4':\n",
    "        print(\"Exiting program.\")\n",
    "        break\n",
    "\n",
    "    else:\n",
    "        print(\"Thank you for choosing this banking..\")"
   ]
  },
  {
   "cell_type": "code",
   "execution_count": null,
   "id": "fbd7ce83-64aa-425e-98d9-5ec571af382f",
   "metadata": {},
   "outputs": [],
   "source": []
  }
 ],
 "metadata": {
  "kernelspec": {
   "display_name": "Python 3 (ipykernel)",
   "language": "python",
   "name": "python3"
  },
  "language_info": {
   "codemirror_mode": {
    "name": "ipython",
    "version": 3
   },
   "file_extension": ".py",
   "mimetype": "text/x-python",
   "name": "python",
   "nbconvert_exporter": "python",
   "pygments_lexer": "ipython3",
   "version": "3.12.2"
  }
 },
 "nbformat": 4,
 "nbformat_minor": 5
}
